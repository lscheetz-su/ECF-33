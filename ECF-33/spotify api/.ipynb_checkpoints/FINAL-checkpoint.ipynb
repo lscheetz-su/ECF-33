{
 "cells": [
  {
   "cell_type": "code",
   "execution_count": 1,
   "metadata": {},
   "outputs": [],
   "source": [
    "import pprint\n",
    "import spotipy\n",
    "import spotipy.util as util\n",
    "from spotipy.oauth2 import SpotifyClientCredentials\n",
    "import spotipy.oauth2 as oauth2\n",
    "import webbrowser\n",
    "import requests\n",
    "import json"
   ]
  },
  {
   "cell_type": "code",
   "execution_count": 2,
   "metadata": {},
   "outputs": [],
   "source": [
    "client_id = \"enter client id\"\n",
    "client_secret = \"enter client secret\"\n",
    "redirect_uri = \"https://localhost:8080\"\n",
    "scope = 'playlist-modify-public'"
   ]
  },
  {
   "cell_type": "code",
   "execution_count": 1,
   "metadata": {},
   "outputs": [],
   "source": [
    "def YouTubeData(url):\n",
    "    url = url\n",
    "    response = requests.get(url)\n",
    "    data = response.json()\n",
    "    songs = data['items']\n",
    "    snips = []\n",
    "    titles = []\n",
    "    artists = []\n",
    "    names = []\n",
    "    for i in songs:\n",
    "        snip = i['snippet']\n",
    "        snips.append(snip)\n",
    "    \n",
    "    for i in snips:\n",
    "        title = i['title']\n",
    "        titles.append(title)\n",
    "    str(titles)\n",
    "\n",
    "    for title in titles:\n",
    "        artist = title.split(' - ')[0]\n",
    "        artists.append(artist)\n",
    "    str(artists)   \n",
    "\n",
    "    for title in titles:\n",
    "        name = title.split(' - ')[-1]\n",
    "        names.append(name)\n",
    "    return artists, names"
   ]
  },
  {
   "cell_type": "code",
   "execution_count": 4,
   "metadata": {},
   "outputs": [],
   "source": [
    "def FinalList(artists, names):\n",
    "    fixed = []\n",
    "    for name in names:\n",
    "        fix = name.split(' (')[0]\n",
    "        fixed.append(fix)\n",
    "    fixed2 = []\n",
    "    for fix in fixed:\n",
    "        fix2 = fix.split(' [')[0]\n",
    "        fix3 = fix2.split(' ft.')[0]\n",
    "        fix4 = fix3.split('Official')[0]\n",
    "        fix5 = fix4.split('feat')[0]\n",
    "        fix6 = fix5.split('Live Session')[0]\n",
    "        fixed2.append(fix6)\n",
    "    fixedartists = []\n",
    "    for artist in artists:\n",
    "        fix = artist.split(' ')[0]\n",
    "        fixedartists.append(fix)\n",
    "    zipped = zip(fixedartists, fixed2)\n",
    "    zip_list = list(zipped)\n",
    "    zip_list2 = []\n",
    "\n",
    "    for i in zip_list:\n",
    "        fixed = ' '.join(i)\n",
    "        zip_list2.append(fixed)\n",
    "    return zip_list2"
   ]
  },
  {
   "cell_type": "code",
   "execution_count": 5,
   "metadata": {},
   "outputs": [],
   "source": [
    "def create_spotify_playlist(username, playlist_name):\n",
    "    if token:\n",
    "        sp = spotipy.Spotify(auth=token)\n",
    "        sp.trace = False\n",
    "        playlists = sp.user_playlist_create(username, playlist_name)\n",
    "        \n",
    "        find_id = playlists['uri']\n",
    "        \n",
    "        print(\"Playlist Created!\")\n",
    "    \n",
    "    else:\n",
    "        print('Cant get token for', username)\n",
    "    \n",
    "    return find_id"
   ]
  },
  {
   "cell_type": "code",
   "execution_count": 6,
   "metadata": {},
   "outputs": [],
   "source": [
    "def get_song_id(final):\n",
    "    song_id_list = []\n",
    "    for i in final:\n",
    "        try: \n",
    "            add_tracks = i\n",
    "            print(add_tracks)\n",
    "            sp = spotipy.Spotify(auth=token)\n",
    "            sp.trace = False\n",
    "            song = sp.search(add_tracks, limit=50, offset=0, type='track', market=None)\n",
    "\n",
    "            song_search = song['tracks']['items'][0]\n",
    "\n",
    "            song_id = song_search['id']\n",
    "\n",
    "            song_id_list.append(song_id)\n",
    "\n",
    "        except IndexError:\n",
    "            print(\"Cant find that song\")\n",
    "            continue \n",
    "    print(song_id_list)\n",
    "    return song_id_list"
   ]
  },
  {
   "cell_type": "code",
   "execution_count": 7,
   "metadata": {},
   "outputs": [],
   "source": [
    "def add_songs_spotify(username, playlist_id, tracks, position = None):\n",
    "        if token:\n",
    "            sp = spotipy.Spotify(auth=token)\n",
    "            sp.trace = False\n",
    "            add_tracks = sp.user_playlist_add_tracks(username, playlist_id, tracks, position = None)\n",
    "            print(\"Tracks added to playlist!\")\n",
    "        else:\n",
    "            print('Cant get token for', username)"
   ]
  },
  {
   "cell_type": "code",
   "execution_count": 8,
   "metadata": {},
   "outputs": [],
   "source": [
    "def get_playlist_link(username, playlist_id):\n",
    "    if token:\n",
    "        sp = spotipy.Spotify(auth=token)\n",
    "        sp.trace = False\n",
    "        playlist_data = sp.user_playlist(username, playlist_id, fields = all)\n",
    "        playlist_url = playlist_data['external_urls']['spotify']\n",
    "        webbrowser.open(playlist_url)\n",
    "        return playlist_url\n",
    "    else:\n",
    "        print('Cant get token for', username)"
   ]
  },
  {
   "cell_type": "code",
   "execution_count": null,
   "metadata": {},
   "outputs": [],
   "source": [
    "playlist_id = str(input(\"Enter a playlist url: \"))\n",
    "plid = playlist_id.split(\"list=\")[1]\n",
    "url = \"https://www.googleapis.com/youtube/v3/playlistItems?part=snippet,contentDetails&playlistId=\" + plid + \"key\"\n",
    "data = YouTubeData(url)"
   ]
  },
  {
   "cell_type": "code",
   "execution_count": null,
   "metadata": {},
   "outputs": [],
   "source": [
    "final = FinalList(data[0], data[1])\n",
    "print(final)"
   ]
  },
  {
   "cell_type": "code",
   "execution_count": null,
   "metadata": {},
   "outputs": [],
   "source": [
    "username = input(\"Enter your Spotify username: \")"
   ]
  },
  {
   "cell_type": "code",
   "execution_count": null,
   "metadata": {},
   "outputs": [],
   "source": [
    "token = util.prompt_for_user_token(username = username, scope = scope, client_id = client_id, \n",
    "                           client_secret = client_secret, redirect_uri = redirect_uri)\n",
    "\n",
    "print(token)"
   ]
  },
  {
   "cell_type": "code",
   "execution_count": null,
   "metadata": {},
   "outputs": [],
   "source": [
    "playlist_name = input(\"Enter a name for your playlist: \")\n",
    "\n",
    "playlist_id = create_spotify_playlist(username, playlist_name)"
   ]
  },
  {
   "cell_type": "code",
   "execution_count": null,
   "metadata": {},
   "outputs": [],
   "source": [
    "song_ids = get_song_id(final)"
   ]
  },
  {
   "cell_type": "code",
   "execution_count": null,
   "metadata": {},
   "outputs": [],
   "source": [
    "tracks = song_ids\n",
    "add_songs_spotify(username, playlist_id, tracks, position = None)"
   ]
  },
  {
   "cell_type": "code",
   "execution_count": null,
   "metadata": {},
   "outputs": [],
   "source": [
    "get_playlist_link(username, playlist_id)"
   ]
  },
  {
   "cell_type": "code",
   "execution_count": null,
   "metadata": {},
   "outputs": [],
   "source": []
  }
 ],
 "metadata": {
  "kernelspec": {
   "display_name": "Python 3",
   "language": "python",
   "name": "python3"
  },
  "language_info": {
   "codemirror_mode": {
    "name": "ipython",
    "version": 3
   },
   "file_extension": ".py",
   "mimetype": "text/x-python",
   "name": "python",
   "nbconvert_exporter": "python",
   "pygments_lexer": "ipython3",
   "version": "3.6.6"
  }
 },
 "nbformat": 4,
 "nbformat_minor": 2
}
