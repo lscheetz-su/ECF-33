{
 "cells": [
  {
   "cell_type": "code",
   "execution_count": 7,
   "metadata": {},
   "outputs": [
    {
     "name": "stdout",
     "output_type": "stream",
     "text": [
      "BQCyLAA4mV_xQjmIaQTS-W0j9oGMEpcqktbOQkbWa65GCFe39s5TWthKWJDR8umDf7b51HjQwTQpek4TQ6oMyWY_xHIpatKO-DCvYfBqR7fayBX8xZ__pphp6Ae1zZIjCBgc7aI9UdE1zlo2NfAUQIA-vMq-BYZ8QtJJoc1oHEKXZTEw\n",
      "{'collaborative': False,\n",
      " 'description': None,\n",
      " 'external_urls': {'spotify': 'https://open.spotify.com/playlist/1gseab0tVutioQMtAmVFSF'},\n",
      " 'followers': {'href': None, 'total': 0},\n",
      " 'href': 'https://api.spotify.com/v1/playlists/1gseab0tVutioQMtAmVFSF',\n",
      " 'id': '1gseab0tVutioQMtAmVFSF',\n",
      " 'images': [],\n",
      " 'name': 'istproj_create',\n",
      " 'owner': {'display_name': 'lukes26',\n",
      "           'external_urls': {'spotify': 'https://open.spotify.com/user/lukes26'},\n",
      "           'href': 'https://api.spotify.com/v1/users/lukes26',\n",
      "           'id': 'lukes26',\n",
      "           'type': 'user',\n",
      "           'uri': 'spotify:user:lukes26'},\n",
      " 'primary_color': None,\n",
      " 'public': True,\n",
      " 'snapshot_id': 'MSwwZWQxZDc3MGM4YzRhNDk0NDQ5MGU5Y2QyZDAwZDI2MWQ3NTBkYzk4',\n",
      " 'tracks': {'href': 'https://api.spotify.com/v1/playlists/1gseab0tVutioQMtAmVFSF/tracks',\n",
      "            'items': [],\n",
      "            'limit': 100,\n",
      "            'next': None,\n",
      "            'offset': 0,\n",
      "            'previous': None,\n",
      "            'total': 0},\n",
      " 'type': 'playlist',\n",
      " 'uri': 'spotify:playlist:1gseab0tVutioQMtAmVFSF'}\n"
     ]
    }
   ],
   "source": [
    "import pprint\n",
    "import spotipy\n",
    "import spotipy.util as util\n",
    "\n",
    "username = \"lukes26\"\n",
    "client_id = \"7b2e372e794045798ea224e5ea35b4c3\"\n",
    "client_secret = \"b127900d345a442bbf0f23bc0c56ab65\"\n",
    "playlist_id = \"\"\n",
    "redirect_uri = \"https://localhost:8080\"\n",
    "\n",
    "scope = 'playlist-modify-public'\n",
    "username = username\n",
    "playlist_name = 'istproj_create'  \n",
    "playlist_description = 'this should create a playlist'\n",
    "token = util.prompt_for_user_token('lukes26', scope='playlist-modify-public', \n",
    "                                   client_id=client_id, client_secret=client_secret, \n",
    "                                   redirect_uri=redirect_uri)\n",
    "\n",
    "print(token)\n",
    "if token:\n",
    "    sp = spotipy.Spotify(auth=token)\n",
    "    sp.trace = False\n",
    "    playlists = sp.user_playlist_create(username, playlist_name)\n",
    "    pprint.pprint(playlists)\n",
    "else:\n",
    "    print('Cant get token for', username)\n",
    "\n",
    "\n",
    "\n",
    "\n"
   ]
  },
  {
   "cell_type": "code",
   "execution_count": null,
   "metadata": {},
   "outputs": [],
   "source": []
  },
  {
   "cell_type": "code",
   "execution_count": null,
   "metadata": {},
   "outputs": [],
   "source": []
  },
  {
   "cell_type": "code",
   "execution_count": null,
   "metadata": {},
   "outputs": [],
   "source": []
  },
  {
   "cell_type": "code",
   "execution_count": null,
   "metadata": {},
   "outputs": [],
   "source": []
  },
  {
   "cell_type": "code",
   "execution_count": 5,
   "metadata": {},
   "outputs": [
    {
     "data": {
      "text/plain": [
       "'BQCyLAA4mV_xQjmIaQTS-W0j9oGMEpcqktbOQkbWa65GCFe39s5TWthKWJDR8umDf7b51HjQwTQpek4TQ6oMyWY_xHIpatKO-DCvYfBqR7fayBX8xZ__pphp6Ae1zZIjCBgc7aI9UdE1zlo2NfAUQIA-vMq-BYZ8QtJJoc1oHEKXZTEw'"
      ]
     },
     "execution_count": 5,
     "metadata": {},
     "output_type": "execute_result"
    }
   ],
   "source": [
    "username = \"lukes26\"\n",
    "client_id = \"7b2e372e794045798ea224e5ea35b4c3\"\n",
    "client_secret = \"b127900d345a442bbf0f23bc0c56ab65\"\n",
    "playlist_id = \"\"\n",
    "redirect_uri = \"https://localhost:8080\"\n",
    "scope = 'playlist-modify-public'\n",
    "\n",
    "util.prompt_for_user_token(username = username, scope = scope, client_id = client_id, \n",
    "                           client_secret = client_secret, redirect_uri = redirect_uri)\n"
   ]
  },
  {
   "cell_type": "code",
   "execution_count": 9,
   "metadata": {},
   "outputs": [
    {
     "data": {
      "text/plain": [
       "True"
      ]
     },
     "execution_count": 9,
     "metadata": {},
     "output_type": "execute_result"
    }
   ],
   "source": [
    "import webbrowser\n",
    "\n",
    "webbrowser.open('https://open.spotify.com/track/4pjcxC0qgXWZWmcBjzn1az')"
   ]
  },
  {
   "cell_type": "code",
   "execution_count": null,
   "metadata": {},
   "outputs": [],
   "source": []
  }
 ],
 "metadata": {
  "kernelspec": {
   "display_name": "Python 3",
   "language": "python",
   "name": "python3"
  },
  "language_info": {
   "codemirror_mode": {
    "name": "ipython",
    "version": 3
   },
   "file_extension": ".py",
   "mimetype": "text/x-python",
   "name": "python",
   "nbconvert_exporter": "python",
   "pygments_lexer": "ipython3",
   "version": "3.6.6"
  }
 },
 "nbformat": 4,
 "nbformat_minor": 2
}
