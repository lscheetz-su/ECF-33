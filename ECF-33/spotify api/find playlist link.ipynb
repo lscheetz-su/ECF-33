{
 "cells": [
  {
   "cell_type": "code",
   "execution_count": null,
   "metadata": {},
   "outputs": [],
   "source": [
    "import spotipy  \n",
    "import spotipy.util as util\n",
    "from spotipy.oauth2 import SpotifyClientCredentials\n",
    "import spotipy.oauth2 as oauth2\n",
    "\n",
    "market = [ \"AD\", \"AR\", \"AT\", \"AU\", \"BE\", \"BG\", \"BO\", \"BR\", \"CA\", \"CH\", \"CL\", \"CO\", \"CR\", \"CY\", \n",
    "      \"CZ\", \"DE\", \"DK\", \"DO\", \"EC\", \"EE\", \"ES\", \"FI\", \"FR\", \"GB\", \"GR\", \"GT\", \"HK\", \"HN\", \"HU\", \n",
    "      \"ID\", \"IE\", \"IS\", \"IT\", \"JP\", \"LI\", \"LT\", \"LU\", \"LV\", \"MC\", \"MT\", \"MX\", \"MY\", \"NI\", \"NL\", \n",
    "      \"NO\", \"NZ\", \"PA\", \"PE\", \"PH\", \"PL\", \"PT\", \"PY\", \"SE\", \"SG\", \"SK\", \"SV\", \"TH\", \"TR\", \"TW\", \n",
    "      \"US\", \"UY\", \"VN\" ]\n",
    "\n",
    "CLIENT_ID = \"7b2e372e794045798ea224e5ea35b4c3\"\n",
    "\n",
    "CLIENT_SECRET = \"b127900d345a442bbf0f23bc0c56ab65\"\n",
    "\n",
    "credentials = oauth2.SpotifyClientCredentials(\n",
    "        client_id=CLIENT_ID,\n",
    "        client_secret=CLIENT_SECRET)\n",
    "\n",
    "token = credentials.get_access_token()\n",
    "spotify = spotipy.Spotify(auth=token)\n",
    "\n",
    "\n",
    "def get_playlist_url(playlist):\n",
    "    res = spotify.search(playlist, type=\"playlist\", market=market, limit=1)\n",
    "\n",
    "    playlist_link = res['playlists']['items']\n",
    "\n",
    "    for i in playlist_link:\n",
    "        \n",
    "        link = i['external_urls']['spotify']\n",
    "        \n",
    "        \n",
    "\n",
    "    return link\n",
    "\n",
    "\n",
    "playlist = input('Enter the name of a playlist: ')\n",
    "get_playlist_url(playlist)\n"
   ]
  },
  {
   "cell_type": "code",
   "execution_count": 6,
   "metadata": {},
   "outputs": [
    {
     "data": {
      "text/plain": [
       "['PrettyPrinter',\n",
       " '_StringIO',\n",
       " '__all__',\n",
       " '__builtins__',\n",
       " '__cached__',\n",
       " '__doc__',\n",
       " '__file__',\n",
       " '__loader__',\n",
       " '__name__',\n",
       " '__package__',\n",
       " '__spec__',\n",
       " '_builtin_scalars',\n",
       " '_collections',\n",
       " '_perfcheck',\n",
       " '_recursion',\n",
       " '_safe_key',\n",
       " '_safe_repr',\n",
       " '_safe_tuple',\n",
       " '_sys',\n",
       " '_types',\n",
       " '_wrap_bytes_repr',\n",
       " 'isreadable',\n",
       " 'isrecursive',\n",
       " 'pformat',\n",
       " 'pprint',\n",
       " 're',\n",
       " 'saferepr']"
      ]
     },
     "execution_count": 6,
     "metadata": {},
     "output_type": "execute_result"
    }
   ],
   "source": []
  },
  {
   "cell_type": "code",
   "execution_count": null,
   "metadata": {},
   "outputs": [],
   "source": []
  }
 ],
 "metadata": {
  "kernelspec": {
   "display_name": "Python 3",
   "language": "python",
   "name": "python3"
  },
  "language_info": {
   "codemirror_mode": {
    "name": "ipython",
    "version": 3
   },
   "file_extension": ".py",
   "mimetype": "text/x-python",
   "name": "python",
   "nbconvert_exporter": "python",
   "pygments_lexer": "ipython3",
   "version": "3.6.6"
  }
 },
 "nbformat": 4,
 "nbformat_minor": 2
}
