{
 "cells": [
  {
   "cell_type": "code",
   "execution_count": 12,
   "metadata": {},
   "outputs": [
    {
     "ename": "SyntaxError",
     "evalue": "invalid syntax (<ipython-input-12-b9009cda178b>, line 13)",
     "output_type": "error",
     "traceback": [
      "\u001b[0;36m  File \u001b[0;32m\"<ipython-input-12-b9009cda178b>\"\u001b[0;36m, line \u001b[0;32m13\u001b[0m\n\u001b[0;31m    export SPOTIPY_CLIENT_ID = '7b2e372e794045798ea224e5ea35b4c3'\u001b[0m\n\u001b[0m                           ^\u001b[0m\n\u001b[0;31mSyntaxError\u001b[0m\u001b[0;31m:\u001b[0m invalid syntax\n"
     ]
    }
   ],
   "source": [
    "import os\n",
    "import sys\n",
    "import json\n",
    "import spotipy\n",
    "import webbrowser\n",
    "import spotipy.util as util\n",
    "from json.decoder import JSONDecodeError \n",
    "\n",
    "\n",
    "\n",
    "username = 'insert here'\n",
    "\n",
    "export SPOTIPY_CLIENT_ID = 'insert here'\n",
    "export SPOTIPY_CLIENT_SECRET = 'insert here'\n",
    "export SPOTIPY_REDIRECT_URI = 'insert here'\n",
    "\n",
    "try:\n",
    "    token = util.prompt_for_user_token(username)\n",
    "except:\n",
    "    os.remove(f'.cache-{username}')\n",
    "    token = util.prompt_for_user_token(username)\n",
    "    \n",
    "#create spotify object\n",
    "\n",
    "spotifyobject = spotipy.Spotify(auth=token)"
   ]
  },
  {
   "cell_type": "code",
   "execution_count": null,
   "metadata": {},
   "outputs": [],
   "source": [
    "export SPOTIPY_CLIENT_ID='7b2e372e794045798ea224e5ea35b4c3'\n",
    "export SPOTIPY_CLIENT_SECRET='2d9a192aff0f483e851d3bf7ddbab5c5'\n",
    "export SPOTIPY_REDIRECT_URI='http://google.com'"
   ]
  },
  {
   "cell_type": "code",
   "execution_count": 10,
   "metadata": {},
   "outputs": [
    {
     "name": "stdin",
     "output_type": "stream",
     "text": [
      "Enter the name of a playlist:  Frank singles\n"
     ]
    },
    {
     "data": {
      "text/plain": [
       "'https://open.spotify.com/playlist/4LqohzOmzBY4jcPuQQSttz'"
      ]
     },
     "execution_count": 10,
     "metadata": {},
     "output_type": "execute_result"
    }
   ],
   "source": [
    "import spotipy\n",
    "import spotipy.util as util\n",
    "from spotipy.oauth2 import SpotifyClientCredentials\n",
    "import spotipy.oauth2 as oauth2\n",
    "\n",
    "market = [ \"AD\", \"AR\", \"AT\", \"AU\", \"BE\", \"BG\", \"BO\", \"BR\", \"CA\", \"CH\", \"CL\", \"CO\", \"CR\", \"CY\", \n",
    "      \"CZ\", \"DE\", \"DK\", \"DO\", \"EC\", \"EE\", \"ES\", \"FI\", \"FR\", \"GB\", \"GR\", \"GT\", \"HK\", \"HN\", \"HU\", \n",
    "      \"ID\", \"IE\", \"IS\", \"IT\", \"JP\", \"LI\", \"LT\", \"LU\", \"LV\", \"MC\", \"MT\", \"MX\", \"MY\", \"NI\", \"NL\", \n",
    "      \"NO\", \"NZ\", \"PA\", \"PE\", \"PH\", \"PL\", \"PT\", \"PY\", \"SE\", \"SG\", \"SK\", \"SV\", \"TH\", \"TR\", \"TW\", \n",
    "      \"US\", \"UY\", \"VN\" ]\n",
    "\n",
    "CLIENT_ID = \"insert here\"\n",
    "CLIENT_SECRET = \"insert here\"\n",
    "\n",
    "credentials = oauth2.SpotifyClientCredentials(\n",
    "        client_id=CLIENT_ID,\n",
    "        client_secret=CLIENT_SECRET)\n",
    "\n",
    "token = credentials.get_access_token()\n",
    "spotify = spotipy.Spotify(auth=token)\n",
    "\n",
    "\n",
    "def get_playlist_url(playlist):\n",
    "    res = spotify.search(playlist, type=\"playlist\", market=market, limit=1)\n",
    "\n",
    "    playlist_link = res['playlists']['items']\n",
    "\n",
    "    for i in playlist_link:\n",
    "        \n",
    "        link = i['external_urls']['spotify']\n",
    "        \n",
    "        \n",
    "\n",
    "    return link\n",
    "\n",
    "\n",
    "playlist = input('Enter the name of a playlist: ')\n",
    "get_playlist_url(playlist)\n"
   ]
  },
  {
   "cell_type": "code",
   "execution_count": 2,
   "metadata": {},
   "outputs": [
    {
     "name": "stdout",
     "output_type": "stream",
     "text": [
      "BQDLqNJMPzG0Xyw66bq0wBxoOcD2RvXYonoAYl_A9KT33f8Cl7EhJNBashU9HZCom_ccPbInpKwO6uwHRchFJzpMrs524yzlu_HOxwqGABbo_uvsVGwF--m5N2_KDodnh9joZ1iU11LhKtTfDIGDBlSG-Df6rDSSw6Vm0Jkl2eRSCEIjIm-NB1RErfln_aBDBHPOgpnLeUrlZavLyinm_Bh8eJloSwU-wlfeQUDsvdjtfsry6fabx0PWMC1ZHfAKpH5MG3K_0pF3wdwxmC2BGNuViQ\n"
     ]
    }
   ],
   "source": [
    "import spotify_token as st\n",
    "\n",
    "username = 'insert here'\n",
    "\n",
    "password = 'insert here'\n",
    "\n",
    "data = st.start_session(username, password)\n",
    "access_token = data[0]\n",
    "expiration_date = data[1]\n",
    "\n",
    "print(access_token)"
   ]
  },
  {
   "cell_type": "code",
   "execution_count": null,
   "metadata": {},
   "outputs": [],
   "source": []
  }
 ],
 "metadata": {
  "kernelspec": {
   "display_name": "Python 3",
   "language": "python",
   "name": "python3"
  },
  "language_info": {
   "codemirror_mode": {
    "name": "ipython",
    "version": 3
   },
   "file_extension": ".py",
   "mimetype": "text/x-python",
   "name": "python",
   "nbconvert_exporter": "python",
   "pygments_lexer": "ipython3",
   "version": "3.6.6"
  }
 },
 "nbformat": 4,
 "nbformat_minor": 2
}
